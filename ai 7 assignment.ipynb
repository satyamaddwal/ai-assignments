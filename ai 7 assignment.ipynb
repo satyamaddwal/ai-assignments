{
 "cells": [
  {
   "cell_type": "code",
   "execution_count": 2,
   "id": "17f653fc-7566-4a34-ae7e-0e1da668df5b",
   "metadata": {},
   "outputs": [
    {
     "data": {
      "text/plain": [
       "6"
      ]
     },
     "execution_count": 2,
     "metadata": {},
     "output_type": "execute_result"
    }
   ],
   "source": [
    "\"\"\"\n",
    " Q1. What is the purpose of the len() function in Python, and how can it be used with strings?\n",
    " \n",
    " SOL.\n",
    " The len() function in Python serves the purpose of determining the length of an object. When applied to a string, it returns the number of characters in that string.\n",
    " Syntax:\n",
    " The len() function takes an object as its argument and returns an integer representing the length of that object.\n",
    " For strings, it calculates the number of characters.\n",
    " for ex:\n",
    " \"\"\"\n",
    "A = \"satyam\"\n",
    "len(A)"
   ]
  },
  {
   "cell_type": "code",
   "execution_count": 4,
   "id": "7f9ad27c-a369-48d5-b993-344ec386b2c9",
   "metadata": {},
   "outputs": [
    {
     "name": "stdout",
     "output_type": "stream",
     "text": [
      "satyam addwal\n"
     ]
    }
   ],
   "source": [
    " \"\"\"\n",
    " Q2. How can you concatenate two or more strings in Python, and can you provide an example of string concatenation?\n",
    " \n",
    " SOL.\n",
    " In Python, you can concatenate (combine) two or more strings using various methods. Let’s explore a few ways to achieve string concatenation:\n",
    " 1. Using the + Operator: The + operator allows you to append strings together.\n",
    " 2. Using the join() Method: The join() method joins elements of a sequence (such as a list) into a single string.\n",
    " For ex:\n",
    " \"\"\"\n",
    "a = \"satyam\"\n",
    "b = \"addwal\"\n",
    "print(a+' '+b)\n"
   ]
  },
  {
   "cell_type": "code",
   "execution_count": 8,
   "id": "56fa6eba-64b7-416a-8776-cd6e48259c27",
   "metadata": {},
   "outputs": [
    {
     "data": {
      "text/plain": [
       "'atyamad'"
      ]
     },
     "execution_count": 8,
     "metadata": {},
     "output_type": "execute_result"
    }
   ],
   "source": [
    " \"\"\"\n",
    " Q3. What is string slicing in Python, and how can you extract a portion of a string using this method?\n",
    " \n",
    " SOL.\n",
    " String slicing in Python allows you to extract a sub-string from a given string by specifying a range of indices.\n",
    " You can obtain a portion of the string by slicing it from the start index up to (but not including) the end index.\n",
    " Syntax: slice(start, stop, step)\n",
    " \"\"\"\n",
    "S = \"satyamaddwal\"\n",
    "S[1:8:1]"
   ]
  },
  {
   "cell_type": "code",
   "execution_count": 9,
   "id": "38660ef3-5f4c-43f2-911c-6eea0b729cad",
   "metadata": {},
   "outputs": [
    {
     "name": "stdout",
     "output_type": "stream",
     "text": [
      "satyamaddwal\n",
      "SATYAMADDWAL\n"
     ]
    }
   ],
   "source": [
    " \"\"\"\n",
    " Q4. How can you change the case of a string in Python, and can you provide examples of both making a string all uppercase and all lowercase?\n",
    " SOL.\n",
    " In Python, you can change the case of a string using the following methods:\n",
    " 1. Making a String All Uppercase: To convert a string to uppercase, use the upper() method.\n",
    " 2. Making a String All Lowercase: To convert a string to lowercase, use the lower() method.\n",
    " 3. Swapping Case: The swapcase() method swaps the case of each character in the string (uppercase to lowercase and vice versa).\n",
    " \"\"\"\n",
    "name = \"SATYamaddWAL\"\n",
    "print(name.lower())\n",
    "print(name.upper())"
   ]
  },
  {
   "cell_type": "code",
   "execution_count": 11,
   "id": "3f6478e5-2f55-42df-aded-beb286f07c6b",
   "metadata": {},
   "outputs": [
    {
     "name": "stdout",
     "output_type": "stream",
     "text": [
      "['red', 'black', 'white', 'mango']\n"
     ]
    }
   ],
   "source": [
    "\"\"\"\n",
    " Q5. What does the split() method do in Python, and how can you split a string using a specific delimiter?\n",
    " \n",
    "SOL.\n",
    " The split() method in Python is used to split a string into a list of substrings.\n",
    " It primarily works by identifying a specified delimiter (such as spaces or other characters) and slicing the string accordingly.\n",
    " The split() method takes one or two arguments: separator and maxsplit (optional).\n",
    " \"\"\"\n",
    "string=\"red,black,white,mango\"\n",
    "otherstring= string.split(\",\",3)\n",
    "print(otherstring)"
   ]
  },
  {
   "cell_type": "code",
   "execution_count": null,
   "id": "b93d3b3d-84a5-488d-aa9a-bece7fb4ce96",
   "metadata": {},
   "outputs": [],
   "source": []
  }
 ],
 "metadata": {
  "kernelspec": {
   "display_name": "Python 3 (ipykernel)",
   "language": "python",
   "name": "python3"
  },
  "language_info": {
   "codemirror_mode": {
    "name": "ipython",
    "version": 3
   },
   "file_extension": ".py",
   "mimetype": "text/x-python",
   "name": "python",
   "nbconvert_exporter": "python",
   "pygments_lexer": "ipython3",
   "version": "3.10.8"
  }
 },
 "nbformat": 4,
 "nbformat_minor": 5
}
